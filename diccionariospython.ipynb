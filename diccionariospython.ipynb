{
 "cells": [
  {
   "cell_type": "code",
   "execution_count": 5,
   "id": "8b3ea029",
   "metadata": {},
   "outputs": [
    {
     "name": "stdout",
     "output_type": "stream",
     "text": [
      "{'nom': 'Juan', 'ap': 'gutierrez', 'am': 'nieto', 'lenguaje': 'php', 'fruta': 'melon'}\n",
      "Juan\n",
      "5\n",
      "<class 'dict'>\n"
     ]
    }
   ],
   "source": [
    "#Primer ejercicio\n",
    "dic1={\"nom\":\"Juan\",\"ap\":\"gutierrez\",\"am\":\"nieto\",\"lenguaje\":\"php\",\"fruta\":\"melon\"}\n",
    "print(dic1)\n",
    "print(dic1[\"nom\"])\n",
    "print(len(dic1))\n",
    "print(type(dic1))"
   ]
  },
  {
   "cell_type": "code",
   "execution_count": 14,
   "id": "38a39888",
   "metadata": {},
   "outputs": [
    {
     "name": "stdout",
     "output_type": "stream",
     "text": [
      "Imprimiendo valor de jorge:  500\n",
      "Imprimiendo valor de la lista dentro del diccionario:  2\n",
      "Imprimiendo un valor obtenido: Ale\n"
     ]
    }
   ],
   "source": [
    "#Segundo ejercicio\n",
    "dic2={\"Jorge\":500,\"Juan\":600,\"Ale\":\"No disponible\",\"Miembros\":[1,2,3]}\n",
    "v1,v2,v3,v4=dic2\n",
    "print(\"Imprimiendo valor de jorge: \",dic2[\"Jorge\"])\n",
    "print(\"Imprimiendo valor de la lista dentro del diccionario: \",dic2[\"Miembros\"][1])\n",
    "print(\"Imprimiendo un valor obtenido de la clave:\",v3)\n"
   ]
  },
  {
   "cell_type": "code",
   "execution_count": 2,
   "id": "4fa08324",
   "metadata": {},
   "outputs": [
    {
     "name": "stdout",
     "output_type": "stream",
     "text": [
      "{'Alex': 24, 'Juan': 79, 'Roberto': 35}\n"
     ]
    }
   ],
   "source": [
    "import random\n",
    "#Tercer ejemplo\n",
    "personas=[\"Alex\",\"Juan\",\"Roberto\"]\n",
    "dic_descuentos={per:random.randint(1,100) for per in personas}\n",
    "print(dic_descuentos)"
   ]
  },
  {
   "cell_type": "code",
   "execution_count": 30,
   "id": "4090836a",
   "metadata": {},
   "outputs": [
    {
     "name": "stdout",
     "output_type": "stream",
     "text": [
      "[('Alex', 500), ('Juan', 600), ('Roberto', 700)]\n",
      "En Alex hay 500\n",
      "En Juan hay 600\n",
      "En Roberto hay 700\n"
     ]
    }
   ],
   "source": [
    "#Cuarto ejemplo\n",
    "personas=[\"Alex\",\"Juan\",\"Roberto\"]\n",
    "valores=[500,600,700]\n",
    "lista_personas=list(zip(personas,valores))\n",
    "print(lista_personas)\n",
    "for per,val in zip(personas,valores):\n",
    "    print(f\"En {per} hay {val}\")"
   ]
  },
  {
   "cell_type": "code",
   "execution_count": 28,
   "id": "0631575c",
   "metadata": {},
   "outputs": [
    {
     "name": "stdout",
     "output_type": "stream",
     "text": [
      "{'Alex': 500, 'Juan': 600, 'Roberto': 700}\n"
     ]
    }
   ],
   "source": [
    "#quinto ejemplo\n",
    "personas=[\"Alex\",\"Juan\",\"Roberto\"]\n",
    "valores=[500,600,700]\n",
    "dic_personas={personas:valores for(personas,valores) in zip(personas,valores)}\n",
    "print(dic_personas)\n",
    "\n"
   ]
  },
  {
   "cell_type": "code",
   "execution_count": 34,
   "id": "3a1ec6fe",
   "metadata": {},
   "outputs": [
    {
     "name": "stdout",
     "output_type": "stream",
     "text": [
      "{'Alex': 71, 'Juan': 70, 'Roberto': 12}\n",
      "{'Alex': 71, 'Juan': 70}\n"
     ]
    }
   ],
   "source": [
    "#Sexto ejemplo\n",
    "personas=[\"Alex\",\"Juan\",\"Roberto\"]\n",
    "dic_descuentos={per:random.randint(1,100) for per in personas} \n",
    "print(dic_descuentos)\n",
    "salida={personas:dic_descuentos for(personas,dic_descuentos) in dic_descuentos.items() if dic_descuentos>50}\n",
    "print(salida)"
   ]
  },
  {
   "cell_type": "code",
   "execution_count": 5,
   "id": "50b1f162",
   "metadata": {},
   "outputs": [
    {
     "ename": "KeyError",
     "evalue": "0",
     "output_type": "error",
     "traceback": [
      "\u001b[1;31m---------------------------------------------------------------------------\u001b[0m",
      "\u001b[1;31mKeyError\u001b[0m                                  Traceback (most recent call last)",
      "Cell \u001b[1;32mIn[5], line 3\u001b[0m\n\u001b[0;32m      1\u001b[0m dic1\u001b[38;5;241m=\u001b[39m{\u001b[38;5;124m\"\u001b[39m\u001b[38;5;124mnom\u001b[39m\u001b[38;5;124m\"\u001b[39m:\u001b[38;5;124m\"\u001b[39m\u001b[38;5;124mJuan\u001b[39m\u001b[38;5;124m\"\u001b[39m,\u001b[38;5;124m\"\u001b[39m\u001b[38;5;124map\u001b[39m\u001b[38;5;124m\"\u001b[39m:\u001b[38;5;124m\"\u001b[39m\u001b[38;5;124mgutierrez\u001b[39m\u001b[38;5;124m\"\u001b[39m,\u001b[38;5;124m\"\u001b[39m\u001b[38;5;124mam\u001b[39m\u001b[38;5;124m\"\u001b[39m:\u001b[38;5;124m\"\u001b[39m\u001b[38;5;124mnieto\u001b[39m\u001b[38;5;124m\"\u001b[39m,\u001b[38;5;124m\"\u001b[39m\u001b[38;5;124mlenguaje\u001b[39m\u001b[38;5;124m\"\u001b[39m:\u001b[38;5;124m\"\u001b[39m\u001b[38;5;124mphp\u001b[39m\u001b[38;5;124m\"\u001b[39m,\u001b[38;5;124m\"\u001b[39m\u001b[38;5;124mfruta\u001b[39m\u001b[38;5;124m\"\u001b[39m:\u001b[38;5;124m\"\u001b[39m\u001b[38;5;124mmelon\u001b[39m\u001b[38;5;124m\"\u001b[39m}\n\u001b[0;32m      2\u001b[0m \u001b[38;5;28;01mfor\u001b[39;00m i \u001b[38;5;129;01min\u001b[39;00m \u001b[38;5;28mrange\u001b[39m (\u001b[38;5;28mlen\u001b[39m(dic1)):\n\u001b[1;32m----> 3\u001b[0m   \u001b[38;5;28mprint\u001b[39m(\u001b[43mdic1\u001b[49m\u001b[43m[\u001b[49m\u001b[43mi\u001b[49m\u001b[43m]\u001b[49m)\n",
      "\u001b[1;31mKeyError\u001b[0m: 0"
     ]
    }
   ],
   "source": [
    "dic1={\"nom\":\"Juan\",\"ap\":\"gutierrez\",\"am\":\"nieto\",\"lenguaje\":\"php\",\"fruta\":\"melon\"}\n",
    "for i in range (len(dic1)):\n",
    "  print(dic1[i])"
   ]
  },
  {
   "cell_type": "code",
   "execution_count": 6,
   "id": "858bf03b",
   "metadata": {},
   "outputs": [
    {
     "name": "stdout",
     "output_type": "stream",
     "text": [
      "Juan\n",
      "gutierrez\n",
      "nieto\n",
      "php\n",
      "melon\n"
     ]
    }
   ],
   "source": [
    "dic1={\"nom\":\"Juan\",\"ap\":\"gutierrez\",\"am\":\"nieto\",\"lenguaje\":\"php\",\"fruta\":\"melon\"}\n",
    "for j in dic1:\n",
    "    print(dic1[j])"
   ]
  },
  {
   "cell_type": "code",
   "execution_count": 7,
   "id": "83a2a79a",
   "metadata": {},
   "outputs": [
    {
     "ename": "KeyError",
     "evalue": "1",
     "output_type": "error",
     "traceback": [
      "\u001b[1;31m---------------------------------------------------------------------------\u001b[0m",
      "\u001b[1;31mKeyError\u001b[0m                                  Traceback (most recent call last)",
      "Cell \u001b[1;32mIn[7], line 3\u001b[0m\n\u001b[0;32m      1\u001b[0m dic1\u001b[38;5;241m=\u001b[39m{\u001b[38;5;124m\"\u001b[39m\u001b[38;5;124mnom\u001b[39m\u001b[38;5;124m\"\u001b[39m:\u001b[38;5;124m\"\u001b[39m\u001b[38;5;124mJuan\u001b[39m\u001b[38;5;124m\"\u001b[39m,\u001b[38;5;124m\"\u001b[39m\u001b[38;5;124map\u001b[39m\u001b[38;5;124m\"\u001b[39m:\u001b[38;5;124m\"\u001b[39m\u001b[38;5;124mgutierrez\u001b[39m\u001b[38;5;124m\"\u001b[39m,\u001b[38;5;124m\"\u001b[39m\u001b[38;5;124mam\u001b[39m\u001b[38;5;124m\"\u001b[39m:\u001b[38;5;124m\"\u001b[39m\u001b[38;5;124mnieto\u001b[39m\u001b[38;5;124m\"\u001b[39m,\u001b[38;5;124m\"\u001b[39m\u001b[38;5;124mlenguaje\u001b[39m\u001b[38;5;124m\"\u001b[39m:\u001b[38;5;124m\"\u001b[39m\u001b[38;5;124mphp\u001b[39m\u001b[38;5;124m\"\u001b[39m,\u001b[38;5;124m\"\u001b[39m\u001b[38;5;124mfruta\u001b[39m\u001b[38;5;124m\"\u001b[39m:\u001b[38;5;124m\"\u001b[39m\u001b[38;5;124mmelon\u001b[39m\u001b[38;5;124m\"\u001b[39m}\n\u001b[0;32m      2\u001b[0m \u001b[38;5;28;01mfor\u001b[39;00m i \u001b[38;5;129;01min\u001b[39;00m \u001b[38;5;28mrange\u001b[39m (\u001b[38;5;28mlen\u001b[39m(dic1)):\n\u001b[1;32m----> 3\u001b[0m   \u001b[38;5;28mprint\u001b[39m(\u001b[43mdic1\u001b[49m\u001b[43m[\u001b[49m\u001b[38;5;241;43m1\u001b[39;49m\u001b[43m]\u001b[49m)\n",
      "\u001b[1;31mKeyError\u001b[0m: 1"
     ]
    }
   ],
   "source": [
    "dic1={\"nom\":\"Juan\",\"ap\":\"gutierrez\",\"am\":\"nieto\",\"lenguaje\":\"php\",\"fruta\":\"melon\"}\n",
    "for i in range (len(dic1)):\n",
    "  print(dic1[1])"
   ]
  },
  {
   "cell_type": "code",
   "execution_count": 9,
   "id": "3a6f0e38",
   "metadata": {},
   "outputs": [
    {
     "name": "stdout",
     "output_type": "stream",
     "text": [
      "dict_keys(['nom', 'ap', 'am', 'lenguaje', 'fruta'])\n",
      "dict_keys(['nom', 'ap', 'am', 'lenguaje', 'fruta'])\n",
      "dict_keys(['nom', 'ap', 'am', 'lenguaje', 'fruta'])\n",
      "dict_keys(['nom', 'ap', 'am', 'lenguaje', 'fruta'])\n",
      "dict_keys(['nom', 'ap', 'am', 'lenguaje', 'fruta'])\n"
     ]
    }
   ],
   "source": [
    "dic1={\"nom\":\"Juan\",\"ap\":\"gutierrez\",\"am\":\"nieto\",\"lenguaje\":\"php\",\"fruta\":\"melon\"}\n",
    "for j in dic1:\n",
    "    print(dic1.keys())"
   ]
  },
  {
   "cell_type": "code",
   "execution_count": 11,
   "id": "bd44144f",
   "metadata": {},
   "outputs": [
    {
     "name": "stdout",
     "output_type": "stream",
     "text": [
      "Juan\n"
     ]
    }
   ],
   "source": [
    "dic1={\"nom\":\"Juan\",\"ap\":\"gutierrez\",\"am\":\"nieto\",\"lenguaje\":\"php\",\"fruta\":\"melon\"}\n",
    "print(dic1[\"nom\"])"
   ]
  },
  {
   "cell_type": "code",
   "execution_count": null,
   "id": "f2064d64",
   "metadata": {},
   "outputs": [],
   "source": []
  }
 ],
 "metadata": {
  "kernelspec": {
   "display_name": "Python 3 (ipykernel)",
   "language": "python",
   "name": "python3"
  },
  "language_info": {
   "codemirror_mode": {
    "name": "ipython",
    "version": 3
   },
   "file_extension": ".py",
   "mimetype": "text/x-python",
   "name": "python",
   "nbconvert_exporter": "python",
   "pygments_lexer": "ipython3",
   "version": "3.11.3"
  }
 },
 "nbformat": 4,
 "nbformat_minor": 5
}
