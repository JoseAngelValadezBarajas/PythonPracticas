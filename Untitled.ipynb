{
 "cells": [
  {
   "cell_type": "code",
   "execution_count": 1,
   "id": "693e1453",
   "metadata": {},
   "outputs": [
    {
     "name": "stdout",
     "output_type": "stream",
     "text": [
      "[]\n"
     ]
    }
   ],
   "source": [
    "lista=[]\n",
    "print(lista)"
   ]
  },
  {
   "cell_type": "code",
   "execution_count": 2,
   "id": "51fd9c28",
   "metadata": {},
   "outputs": [
    {
     "name": "stdout",
     "output_type": "stream",
     "text": [
      "['php', 'Python', 'java']\n"
     ]
    }
   ],
   "source": [
    "lista=[\"php\",\"Python\",\"java\"]\n",
    "print(lista)"
   ]
  },
  {
   "cell_type": "code",
   "execution_count": 3,
   "id": "b1382d93",
   "metadata": {},
   "outputs": [
    {
     "ename": "SyntaxError",
     "evalue": "incomplete input (3501042942.py, line 2)",
     "output_type": "error",
     "traceback": [
      "\u001b[1;36m  Cell \u001b[1;32mIn[3], line 2\u001b[1;36m\u001b[0m\n\u001b[1;33m    print(len(lista)\u001b[0m\n\u001b[1;37m                    ^\u001b[0m\n\u001b[1;31mSyntaxError\u001b[0m\u001b[1;31m:\u001b[0m incomplete input\n"
     ]
    }
   ],
   "source": [
    "lista=[\"php\",\"Python\",\"java\"]\n",
    "print(len(lista)"
   ]
  },
  {
   "cell_type": "code",
   "execution_count": 4,
   "id": "c1f8d27b",
   "metadata": {},
   "outputs": [
    {
     "name": "stdout",
     "output_type": "stream",
     "text": [
      "3\n"
     ]
    }
   ],
   "source": [
    "lista=[\"php\",\"Python\",\"java\"]\n",
    "print(len(lista))"
   ]
  },
  {
   "cell_type": "code",
   "execution_count": 13,
   "id": "171ec570",
   "metadata": {},
   "outputs": [
    {
     "name": "stdout",
     "output_type": "stream",
     "text": [
      "['C++', 'C#']\n"
     ]
    }
   ],
   "source": [
    "lista=[\"php\",\"Python\",\"java\",\"C\",\"C++\",\"C#\"]\n",
    "print(lista[4:6])"
   ]
  },
  {
   "cell_type": "code",
   "execution_count": 14,
   "id": "69f88e74",
   "metadata": {},
   "outputs": [
    {
     "name": "stdout",
     "output_type": "stream",
     "text": [
      "['php', 'Python', 'java', 'C']\n"
     ]
    }
   ],
   "source": [
    "lista=[\"php\",\"Python\",\"java\",\"C\",\"C++\",\"C#\"]\n",
    "print(lista[:4])"
   ]
  },
  {
   "cell_type": "code",
   "execution_count": 15,
   "id": "a60faade",
   "metadata": {},
   "outputs": [
    {
     "name": "stdout",
     "output_type": "stream",
     "text": [
      "C++\n"
     ]
    }
   ],
   "source": [
    "lista=[\"php\",\"Python\",\"java\",\"C\",\"C++\",\"C#\"]\n",
    "print(lista[-2])"
   ]
  },
  {
   "cell_type": "code",
   "execution_count": 16,
   "id": "b1bb2380",
   "metadata": {},
   "outputs": [
    {
     "name": "stdout",
     "output_type": "stream",
     "text": [
      "C#\n"
     ]
    }
   ],
   "source": [
    "lista=[\"php\",\"Python\",\"java\",\"C\",\"C++\",\"C#\"]\n",
    "print(lista[-1])"
   ]
  },
  {
   "cell_type": "code",
   "execution_count": 17,
   "id": "4dd1c0c2",
   "metadata": {},
   "outputs": [],
   "source": [
    "list=[\"A\",\"B\",\"C\",\"D\",\"E\",\"F\",\"G\",[\"H\",\"I\",\"J\"],\"K\"]"
   ]
  },
  {
   "cell_type": "code",
   "execution_count": 18,
   "id": "4a3bb690",
   "metadata": {},
   "outputs": [
    {
     "data": {
      "text/plain": [
       "['A', 'B', 'C', 'D', 'E', 'F', 'G', ['H', 'I', 'J'], 'K', 'L']"
      ]
     },
     "execution_count": 18,
     "metadata": {},
     "output_type": "execute_result"
    }
   ],
   "source": [
    "#Agregando valor al final\n",
    "list.append(\"L\")\n",
    "list"
   ]
  },
  {
   "cell_type": "code",
   "execution_count": 19,
   "id": "5ded95e0",
   "metadata": {},
   "outputs": [
    {
     "data": {
      "text/plain": [
       "['A', 'B', 'C', 'D', 'E', 'F', 'G', ['H', 'I', 'J'], 'K', 'L', 'M']"
      ]
     },
     "execution_count": 19,
     "metadata": {},
     "output_type": "execute_result"
    }
   ],
   "source": [
    "list.insert(12,\"M\")\n",
    "list"
   ]
  },
  {
   "cell_type": "code",
   "execution_count": 20,
   "id": "aa5b9211",
   "metadata": {},
   "outputs": [
    {
     "data": {
      "text/plain": [
       "['A', 'B', 'C', 'D', 'E', 'F', 'G', ['H', 'I', 'J'], 'K', 'L', 'M', 'N', 'O']"
      ]
     },
     "execution_count": 20,
     "metadata": {},
     "output_type": "execute_result"
    }
   ],
   "source": [
    "list2=[\"N\",\"O\"]\n",
    "list3=list+list2\n",
    "list3"
   ]
  },
  {
   "cell_type": "code",
   "execution_count": 21,
   "id": "4aa7729c",
   "metadata": {},
   "outputs": [
    {
     "ename": "NameError",
     "evalue": "name 'B' is not defined",
     "output_type": "error",
     "traceback": [
      "\u001b[1;31m---------------------------------------------------------------------------\u001b[0m",
      "\u001b[1;31mNameError\u001b[0m                                 Traceback (most recent call last)",
      "Cell \u001b[1;32mIn[21], line 2\u001b[0m\n\u001b[0;32m      1\u001b[0m \u001b[38;5;66;03m#Buscar elemento\u001b[39;00m\n\u001b[1;32m----> 2\u001b[0m \u001b[38;5;28mprint\u001b[39m(\u001b[43mB\u001b[49m \u001b[38;5;129;01min\u001b[39;00m list3)\n",
      "\u001b[1;31mNameError\u001b[0m: name 'B' is not defined"
     ]
    }
   ],
   "source": [
    "#Buscar elemento\n",
    "print(B in list3)"
   ]
  },
  {
   "cell_type": "code",
   "execution_count": 22,
   "id": "73324336",
   "metadata": {},
   "outputs": [
    {
     "name": "stdout",
     "output_type": "stream",
     "text": [
      "True\n"
     ]
    }
   ],
   "source": [
    "#Buscar elemento\n",
    "print(\"B\" in list3)"
   ]
  },
  {
   "cell_type": "code",
   "execution_count": 23,
   "id": "82a9b639",
   "metadata": {},
   "outputs": [
    {
     "name": "stdout",
     "output_type": "stream",
     "text": [
      "2\n"
     ]
    }
   ],
   "source": [
    "#Lugar de elemnto\n",
    "print(list3.index(\"C\"))"
   ]
  },
  {
   "cell_type": "code",
   "execution_count": 24,
   "id": "23692a24",
   "metadata": {},
   "outputs": [
    {
     "data": {
      "text/plain": [
       "1"
      ]
     },
     "execution_count": 24,
     "metadata": {},
     "output_type": "execute_result"
    }
   ],
   "source": [
    "#Contar elementos que existen\n",
    "list3.count(\"D\")"
   ]
  },
  {
   "cell_type": "code",
   "execution_count": 33,
   "id": "83c937d4",
   "metadata": {},
   "outputs": [
    {
     "data": {
      "text/plain": [
       "['A', 'B', 'C', 'D', 'E']"
      ]
     },
     "execution_count": 33,
     "metadata": {},
     "output_type": "execute_result"
    }
   ],
   "source": [
    "#Eliminar ultimo elemento\n",
    "list=list3\n",
    "list.pop()\n",
    "list\n"
   ]
  },
  {
   "cell_type": "code",
   "execution_count": 36,
   "id": "1bf16a6c",
   "metadata": {},
   "outputs": [
    {
     "data": {
      "text/plain": [
       "['A', 'B', 'C', 'D']"
      ]
     },
     "execution_count": 36,
     "metadata": {},
     "output_type": "execute_result"
    }
   ],
   "source": [
    "position=list.index(\"E\")\n",
    "list.pop(position)\n",
    "list"
   ]
  },
  {
   "cell_type": "code",
   "execution_count": 35,
   "id": "fea04c80",
   "metadata": {},
   "outputs": [
    {
     "data": {
      "text/plain": [
       "['A', 'B', 'C', 'D', 'E']"
      ]
     },
     "execution_count": 35,
     "metadata": {},
     "output_type": "execute_result"
    }
   ],
   "source": [
    "list"
   ]
  },
  {
   "cell_type": "code",
   "execution_count": 37,
   "id": "abaa7fdf",
   "metadata": {},
   "outputs": [
    {
     "data": {
      "text/plain": [
       "['D', 'C', 'B', 'A']"
      ]
     },
     "execution_count": 37,
     "metadata": {},
     "output_type": "execute_result"
    }
   ],
   "source": [
    "list.reverse()\n",
    "list"
   ]
  },
  {
   "cell_type": "code",
   "execution_count": 39,
   "id": "d0f337fe",
   "metadata": {},
   "outputs": [
    {
     "data": {
      "text/plain": [
       "['A', 'B', 'C', 'D']"
      ]
     },
     "execution_count": 39,
     "metadata": {},
     "output_type": "execute_result"
    }
   ],
   "source": [
    "list.reverse()\n",
    "list"
   ]
  },
  {
   "cell_type": "code",
   "execution_count": null,
   "id": "9933afe6",
   "metadata": {},
   "outputs": [],
   "source": []
  }
 ],
 "metadata": {
  "kernelspec": {
   "display_name": "Python 3 (ipykernel)",
   "language": "python",
   "name": "python3"
  },
  "language_info": {
   "codemirror_mode": {
    "name": "ipython",
    "version": 3
   },
   "file_extension": ".py",
   "mimetype": "text/x-python",
   "name": "python",
   "nbconvert_exporter": "python",
   "pygments_lexer": "ipython3",
   "version": "3.11.3"
  }
 },
 "nbformat": 4,
 "nbformat_minor": 5
}
