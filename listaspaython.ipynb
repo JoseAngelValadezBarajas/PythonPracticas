{
 "cells": [
  {
   "cell_type": "code",
   "execution_count": 1,
   "id": "02a6d379",
   "metadata": {},
   "outputs": [
    {
     "name": "stdout",
     "output_type": "stream",
     "text": [
      "[]\n"
     ]
    }
   ],
   "source": [
    "lista=[]\n",
    "print(lista)"
   ]
  },
  {
   "cell_type": "code",
   "execution_count": 2,
   "id": "ce4f4a14",
   "metadata": {},
   "outputs": [
    {
     "name": "stdout",
     "output_type": "stream",
     "text": [
      "['php', 'Python', 'java']\n"
     ]
    }
   ],
   "source": [
    "lista=[\"php\",\"Python\",\"java\"]\n",
    "print(lista)"
   ]
  },
  {
   "cell_type": "code",
   "execution_count": 3,
   "id": "6cac6d22",
   "metadata": {},
   "outputs": [
    {
     "name": "stdout",
     "output_type": "stream",
     "text": [
      "3\n"
     ]
    }
   ],
   "source": [
    "lista=[\"php\",\"Python\",\"java\"]\n",
    "print(len(lista))"
   ]
  },
  {
   "cell_type": "code",
   "execution_count": 4,
   "id": "91107db0",
   "metadata": {},
   "outputs": [
    {
     "name": "stdout",
     "output_type": "stream",
     "text": [
      "3\n"
     ]
    }
   ],
   "source": [
    "lista=[\"php\",\"Python\",\"java\"]\n",
    "print(len(lista))"
   ]
  },
  {
   "cell_type": "code",
   "execution_count": 5,
   "id": "5a0c3b45",
   "metadata": {},
   "outputs": [
    {
     "name": "stdout",
     "output_type": "stream",
     "text": [
      "['C++', 'C#']\n"
     ]
    }
   ],
   "source": [
    "lista=[\"php\",\"Python\",\"java\",\"C\",\"C++\",\"C#\",\"Php\"]\n",
    "print(lista[4:6])"
   ]
  },
  {
   "cell_type": "code",
   "execution_count": 6,
   "id": "a82ab776",
   "metadata": {},
   "outputs": [
    {
     "name": "stdout",
     "output_type": "stream",
     "text": [
      "['php', 'Python', 'java', 'C']\n"
     ]
    }
   ],
   "source": [
    "lista=[\"php\",\"Python\",\"java\",\"C\",\"C++\",\"C#\"]\n",
    "print(lista[:4])"
   ]
  },
  {
   "cell_type": "code",
   "execution_count": 7,
   "id": "72292900",
   "metadata": {},
   "outputs": [
    {
     "name": "stdout",
     "output_type": "stream",
     "text": [
      "C++\n"
     ]
    }
   ],
   "source": [
    "lista=[\"php\",\"Python\",\"java\",\"C\",\"C++\",\"C#\"]\n",
    "print(lista[-2])"
   ]
  },
  {
   "cell_type": "code",
   "execution_count": 8,
   "id": "2c693d2c",
   "metadata": {},
   "outputs": [
    {
     "name": "stdout",
     "output_type": "stream",
     "text": [
      "C#\n"
     ]
    }
   ],
   "source": [
    "lista=[\"php\",\"Python\",\"java\",\"C\",\"C++\",\"C#\"]\n",
    "print(lista[-1])"
   ]
  },
  {
   "cell_type": "code",
   "execution_count": 9,
   "id": "d0317b90",
   "metadata": {},
   "outputs": [],
   "source": [
    "list=[\"A\",\"B\",\"C\",\"D\",\"E\",\"F\",\"G\",[\"H\",\"I\",\"J\"],\"K\"]"
   ]
  },
  {
   "cell_type": "code",
   "execution_count": 10,
   "id": "4cfc303c",
   "metadata": {},
   "outputs": [
    {
     "data": {
      "text/plain": [
       "['A', 'B', 'C', 'D', 'E', 'F', 'G', ['H', 'I', 'J'], 'K', 'L']"
      ]
     },
     "execution_count": 10,
     "metadata": {},
     "output_type": "execute_result"
    }
   ],
   "source": [
    "#Agregando valor al final\n",
    "list.append(\"L\")\n",
    "list"
   ]
  },
  {
   "cell_type": "code",
   "execution_count": 11,
   "id": "2a51f046",
   "metadata": {},
   "outputs": [
    {
     "data": {
      "text/plain": [
       "['A', 'B', 'C', 'D', 'E', 'F', 'G', ['H', 'I', 'J'], 'K', 'L', 'M']"
      ]
     },
     "execution_count": 11,
     "metadata": {},
     "output_type": "execute_result"
    }
   ],
   "source": [
    "list.insert(12,\"M\")\n",
    "list"
   ]
  },
  {
   "cell_type": "code",
   "execution_count": 12,
   "id": "13aa43b2",
   "metadata": {},
   "outputs": [
    {
     "data": {
      "text/plain": [
       "['A', 'B', 'C', 'D', 'E', 'F', 'G', ['H', 'I', 'J'], 'K', 'L', 'M', 'N', 'O']"
      ]
     },
     "execution_count": 12,
     "metadata": {},
     "output_type": "execute_result"
    }
   ],
   "source": [
    "list2=[\"N\",\"O\"]\n",
    "list3=list+list2\n",
    "list3"
   ]
  },
  {
   "cell_type": "code",
   "execution_count": 13,
   "id": "c1fc62ef",
   "metadata": {},
   "outputs": [
    {
     "name": "stdout",
     "output_type": "stream",
     "text": [
      "True\n"
     ]
    }
   ],
   "source": [
    "#Buscar elemento\n",
    "print(\"B\" in list3)"
   ]
  },
  {
   "cell_type": "code",
   "execution_count": 14,
   "id": "dcd11395",
   "metadata": {},
   "outputs": [
    {
     "name": "stdout",
     "output_type": "stream",
     "text": [
      "True\n"
     ]
    }
   ],
   "source": [
    "#Buscar elemento\n",
    "print(\"B\" in list3)"
   ]
  },
  {
   "cell_type": "code",
   "execution_count": 15,
   "id": "f3e4a398",
   "metadata": {},
   "outputs": [
    {
     "name": "stdout",
     "output_type": "stream",
     "text": [
      "2\n"
     ]
    }
   ],
   "source": [
    "#Lugar de elemnto\n",
    "print(list3.index(\"C\"))"
   ]
  },
  {
   "cell_type": "code",
   "execution_count": 16,
   "id": "d12975d7",
   "metadata": {},
   "outputs": [
    {
     "data": {
      "text/plain": [
       "1"
      ]
     },
     "execution_count": 16,
     "metadata": {},
     "output_type": "execute_result"
    }
   ],
   "source": [
    "#Contar elementos que existen\n",
    "list3.count(\"D\")"
   ]
  },
  {
   "cell_type": "code",
   "execution_count": 17,
   "id": "531d3fc0",
   "metadata": {},
   "outputs": [
    {
     "data": {
      "text/plain": [
       "['A', 'B', 'C', 'D', 'E', 'F', 'G', ['H', 'I', 'J'], 'K', 'L', 'M', 'N']"
      ]
     },
     "execution_count": 17,
     "metadata": {},
     "output_type": "execute_result"
    }
   ],
   "source": [
    "#Eliminar ultimo elemento\n",
    "list=list3\n",
    "list.pop()\n",
    "list\n"
   ]
  },
  {
   "cell_type": "code",
   "execution_count": 18,
   "id": "72ec44a0",
   "metadata": {},
   "outputs": [
    {
     "data": {
      "text/plain": [
       "['A', 'B', 'C', 'D', 'F', 'G', ['H', 'I', 'J'], 'K', 'L', 'M', 'N']"
      ]
     },
     "execution_count": 18,
     "metadata": {},
     "output_type": "execute_result"
    }
   ],
   "source": [
    "position=list.index(\"E\")\n",
    "list.pop(position)\n",
    "list"
   ]
  },
  {
   "cell_type": "code",
   "execution_count": 19,
   "id": "68d269c8",
   "metadata": {},
   "outputs": [
    {
     "data": {
      "text/plain": [
       "['A', 'B', 'C', 'D', 'F', 'G', ['H', 'I', 'J'], 'K', 'L', 'M', 'N']"
      ]
     },
     "execution_count": 19,
     "metadata": {},
     "output_type": "execute_result"
    }
   ],
   "source": [
    "list"
   ]
  },
  {
   "cell_type": "code",
   "execution_count": 20,
   "id": "824e20c8",
   "metadata": {},
   "outputs": [
    {
     "data": {
      "text/plain": [
       "['N', 'M', 'L', 'K', ['H', 'I', 'J'], 'G', 'F', 'D', 'C', 'B', 'A']"
      ]
     },
     "execution_count": 20,
     "metadata": {},
     "output_type": "execute_result"
    }
   ],
   "source": [
    "list.reverse()\n",
    "list"
   ]
  },
  {
   "cell_type": "code",
   "execution_count": 21,
   "id": "75110618",
   "metadata": {},
   "outputs": [
    {
     "data": {
      "text/plain": [
       "['A', 'B', 'C', 'D', 'F', 'G', ['H', 'I', 'J'], 'K', 'L', 'M', 'N']"
      ]
     },
     "execution_count": 21,
     "metadata": {},
     "output_type": "execute_result"
    }
   ],
   "source": [
    "list.reverse()\n",
    "list"
   ]
  },
  {
   "cell_type": "code",
   "execution_count": 27,
   "id": "ab3f9b16",
   "metadata": {},
   "outputs": [
    {
     "data": {
      "text/plain": [
       "['A', 'B', 'C', 'D', 'F', 'G', ['H', 'I', 'J'], 'K', 'L', 'M', 'N']"
      ]
     },
     "execution_count": 27,
     "metadata": {},
     "output_type": "execute_result"
    }
   ],
   "source": [
    "list.sort\n",
    "list"
   ]
  },
  {
   "cell_type": "code",
   "execution_count": null,
   "id": "7c7cab72",
   "metadata": {},
   "outputs": [],
   "source": []
  },
  {
   "cell_type": "code",
   "execution_count": null,
   "id": "e27c2342",
   "metadata": {},
   "outputs": [],
   "source": []
  }
 ],
 "metadata": {
  "kernelspec": {
   "display_name": "Python 3 (ipykernel)",
   "language": "python",
   "name": "python3"
  },
  "language_info": {
   "codemirror_mode": {
    "name": "ipython",
    "version": 3
   },
   "file_extension": ".py",
   "mimetype": "text/x-python",
   "name": "python",
   "nbconvert_exporter": "python",
   "pygments_lexer": "ipython3",
   "version": "3.11.3"
  }
 },
 "nbformat": 4,
 "nbformat_minor": 5
}
