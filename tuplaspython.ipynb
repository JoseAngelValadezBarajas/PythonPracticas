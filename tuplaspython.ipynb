{
 "cells": [
  {
   "cell_type": "code",
   "execution_count": 5,
   "id": "fa15d317",
   "metadata": {},
   "outputs": [
    {
     "name": "stdout",
     "output_type": "stream",
     "text": [
      "('Melon', 'papaya', 'Sandia', 'Platano')\n",
      "Melon\n",
      "papaya\n",
      "4\n",
      "<class 'tuple'>\n"
     ]
    }
   ],
   "source": [
    "#primer ejemplo\n",
    "frutas=tuple((\"Melon\",\"papaya\",\"Sandia\",\"Platano\"))\n",
    "print(frutas)\n",
    "print(frutas[0])\n",
    "print(frutas[1])\n",
    "print(len(frutas))\n",
    "print(type(frutas))\n"
   ]
  },
  {
   "cell_type": "code",
   "execution_count": 11,
   "id": "f48a8405",
   "metadata": {},
   "outputs": [
    {
     "name": "stdout",
     "output_type": "stream",
     "text": [
      "('Melon', 'papaya', 'Sandia', 'Platano')\n",
      "(1, 2, [3, 4, 5], 6)\n",
      "4\n"
     ]
    }
   ],
   "source": [
    "#segundo ejemplo\n",
    "frutas=tuple((\"Melon\",\"papaya\",\"Sandia\",\"Platano\"))\n",
    "numeros=tuple((1,2,[3,4,5],6))\n",
    "print(frutas)\n",
    "print(numeros)\n",
    "print(numeros[2][1])"
   ]
  },
  {
   "cell_type": "code",
   "execution_count": 48,
   "id": "19a7b7e6",
   "metadata": {},
   "outputs": [
    {
     "name": "stdout",
     "output_type": "stream",
     "text": [
      "Imprimiendo nombre: Juan\n",
      "Imprimiendo apellido: Martinez\n",
      "Imprimiendo edad: 12\n",
      "Imprimiendo telefono: 5555555\n",
      "Uso de list:  ['Juan', 'Martinez', 12, 5555555]\n",
      "Uso de for con range:  ['Juan', 'Martinez', 12, 5555555]\n",
      "Uso de for sin range:  ['Juan', 'Martinez', 12, 5555555]\n",
      "Buscar el nombre Juan en tupla: True\n",
      "Contar cuantos elementos hay en tupla con Juan: 1\n"
     ]
    }
   ],
   "source": [
    "#tercer ejemplo\n",
    "frutas=tuple((\"Melon\",\"papaya\",\"Sandia\",\"Platano\"))\n",
    "numeros=tuple((1,2,[3,4,5],6))\n",
    "user=tuple((\"Juan\",\"Martinez\",12,5555555))\n",
    "nom,ap,edad,tel=user\n",
    "print(\"Imprimiendo nombre:\",nom)\n",
    "print(\"Imprimiendo apellido:\",ap)\n",
    "print(\"Imprimiendo edad:\",edad)\n",
    "print(\"Imprimiendo telefono:\",tel)\n",
    "user_lista=list(user)\n",
    "user_lista_for=[]\n",
    "user_lista_for_2=[]\n",
    "for i in range(len(user)):\n",
    "    user_lista_for.append(user[i])\n",
    "for j in user:\n",
    "    user_lista_for_2.append(j)\n",
    "print(\"Uso de list: \",user_lista)\n",
    "print(\"Uso de for con range: \",user_lista_for)\n",
    "print(\"Uso de for sin range: \",user_lista_for_2)\n",
    "print(\"Buscar el nombre Juan en tupla:\", \"Juan\" in user)\n",
    "print(\"Contar cuantos elementos hay en tupla con Juan:\", user.count(\"Juan\"))"
   ]
  },
  {
   "cell_type": "code",
   "execution_count": 4,
   "id": "06f14488",
   "metadata": {},
   "outputs": [
    {
     "data": {
      "text/plain": [
       "[1, 2, 3]"
      ]
     },
     "execution_count": 4,
     "metadata": {},
     "output_type": "execute_result"
    }
   ],
   "source": [
    "#Cuarto ejercicio\n",
    "\n",
    "sorted([\"Python\", \"Java\", \"C\", \"C++\"], key=len)\n",
    "sorted([2, 3, 1])\n"
   ]
  },
  {
   "cell_type": "code",
   "execution_count": 8,
   "id": "6e54db99",
   "metadata": {},
   "outputs": [
    {
     "data": {
      "text/plain": [
       "[3, 2, 1]"
      ]
     },
     "execution_count": 8,
     "metadata": {},
     "output_type": "execute_result"
    }
   ],
   "source": [
    "numeros=tuple((2, 3,1))\n",
    "sorted(numeros,reverse=True)\n"
   ]
  },
  {
   "cell_type": "code",
   "execution_count": null,
   "id": "84131248",
   "metadata": {},
   "outputs": [],
   "source": []
  }
 ],
 "metadata": {
  "kernelspec": {
   "display_name": "Python 3 (ipykernel)",
   "language": "python",
   "name": "python3"
  },
  "language_info": {
   "codemirror_mode": {
    "name": "ipython",
    "version": 3
   },
   "file_extension": ".py",
   "mimetype": "text/x-python",
   "name": "python",
   "nbconvert_exporter": "python",
   "pygments_lexer": "ipython3",
   "version": "3.11.3"
  }
 },
 "nbformat": 4,
 "nbformat_minor": 5
}
